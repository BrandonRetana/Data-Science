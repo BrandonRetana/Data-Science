{
 "cells": [
  {
   "cell_type": "markdown",
   "metadata": {
    "colab_type": "text",
    "id": "m8J4s6JvnqND"
   },
   "source": [
    "### Ejercicio #2"
   ]
  },
  {
   "cell_type": "code",
   "execution_count": null,
   "metadata": {},
   "outputs": [],
   "source": [
    "import torch as torch\n",
    "\n",
    "def cross(firstVector, secondVector):\n",
    "    zeroVector = torch.zeros(firstVector.shape[0])\n",
    "    zeroVector[0] = firstVector[1]*secondVector[2] - firstVector[2]*secondVector[1]\n",
    "    zeroVector[1] = firstVector[2]*secondVector[0] - firstVector[0]*secondVector[2]\n",
    "    zeroVector[2] = firstVector[0]*secondVector[1] - firstVector[1]*secondVector[0]\n",
    "    return zeroVector\n",
    "\n",
    "\n",
    "x = torch.tensor( [1. , 3., 4. ])\n",
    "y = torch.tensor( [4. , 2., 4. ])\n",
    "r = torch.cross( x, y)\n",
    "s = cross(x,y)\n",
    "print(\"Producto cruz =\", r )\n",
    "print(\"Producto cruz a pie =\", s )"
   ]
  },
  {
   "cell_type": "markdown",
   "metadata": {},
   "source": [
    "### Ejercicio #4"
   ]
  },
  {
   "cell_type": "code",
   "execution_count": null,
   "metadata": {},
   "outputs": [],
   "source": [
    "#Cree dos vectores del mismo tamaño con datos aleatorios\n",
    "firstTestVector = torch.rand(50)\n",
    "secondTestVector = torch.rand(50)\n",
    "\n",
    "\n",
    "#Programe una función que calcule el producto punto entre dos vectores SIN utilizar funciones de Python, es decir debe programar \"a pie\" la funcionalidad. Pruebe su función con los vectores creados anteriormente \n",
    "def scalarProduct(firstVector, secondVector):\n",
    "    resultScalar  = 0\n",
    "    if(firstVector.shape[0] != secondVector.shape[0]):\n",
    "        print(\"Los vectores deben tener las mismas dimensiones\")\n",
    "        return\n",
    "    for i in range(0, firstVector.shape[0]):\n",
    "        resultScalar += firstVector[i]*secondVector[i]\n",
    "    return resultScalar\n",
    "\n",
    "pyTorchTest = torch.dot(firstTestVector, secondTestVector)\n",
    "myFunction = scalarProduct(firstTestVector, secondTestVector)\n",
    "\n",
    "print(\"Producto punto: \", pyTorchTest)\n",
    "print(\"Producto punto a pie: \", myFunction)\n",
    "\n",
    "#Propiedad del producto punto: Implemente, con tensores de Pytorch, una función para verificar el cumplimiento o no de la siguiente propiedad por medio de un ejemplo o contraejemplo. \n",
    "#Utilice como entrada de su función, arreglos de 50 elementos generados al azar\n",
    "\n",
    "def propertyOfVector(firstVector, secondVector):\n",
    "    firstOrder = torch.dot(firstTestVector, secondTestVector)\n",
    "    secondOrder = torch.dot(secondTestVector, firstTestVector)\n",
    "    print(\"Primer vector: \", firstVector)\n",
    "    print(\"Segundo vector: \", secondVector)\n",
    "\n",
    "    if(firstOrder == secondOrder):\n",
    "        print(\"Si es conmutativo por que no importa el orden, da el mismo resultado \\nUn ejemplo de esto que este mensaje solo se muestra si el escalar resultante es igual cuando enviamos los vectores en orden diferente a la funcion dot de pyTorch\")\n",
    "        return\n",
    "        \n",
    "    print(\"No es conmutativo prueba\")    \n",
    "    return\n",
    "\n",
    "propertyOfVector(firstTestVector, secondTestVector)"
   ]
  },
  {
   "cell_type": "code",
   "execution_count": null,
   "metadata": {},
   "outputs": [],
   "source": []
  }
 ],
 "metadata": {
  "colab": {
   "collapsed_sections": [],
   "name": "Pruebas de linealidad.ipynb",
   "provenance": []
  },
  "kernelspec": {
   "display_name": "Python 3",
   "language": "python",
   "name": "python3"
  },
  "language_info": {
   "codemirror_mode": {
    "name": "ipython",
    "version": 3
   },
   "file_extension": ".py",
   "mimetype": "text/x-python",
   "name": "python",
   "nbconvert_exporter": "python",
   "pygments_lexer": "ipython3",
   "version": "3.10.10"
  },
  "vscode": {
   "interpreter": {
    "hash": "1b28e1c81f21e9d624c09e2b24d5459d0aec70c0b583218bcb870c775f4dd0e2"
   }
  }
 },
 "nbformat": 4,
 "nbformat_minor": 1
}
