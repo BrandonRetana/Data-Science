{
 "cells": [
  {
   "cell_type": "markdown",
   "metadata": {
    "colab_type": "text",
    "id": "GItxU96mTk16"
   },
   "source": [
    "# Matemática para Ciencia de los Datos\n",
    "# Tarea programada 1 (TP1)\n",
    "\n",
    "María Auxiliadora Mora,\n",
    "Instituto Tecnológico de Costa Rica \n",
    "\n",
    "\n",
    "Medio de entrega:  TecDigital.\n",
    "\n",
    "Entregables: Un archivo jupyter con los ejercicios resueltos.\n",
    "\n",
    "Modo de trabajo: individual o en grupos de máximo dos personas.\n",
    "\n",
    "\n",
    "---\n",
    "\n",
    "\n",
    "\n",
    "Resumen: En el presente trabajo se realizarán ejercicios para repasar aspectos básicos del algebra lineal: Sistemas lineales y vectores. Pueden usar celdas de texto para explicaciones amplias y en las celdas de código, además de programar en python, documenten su código con comentarios explicativos de lo que realiza el programa."
   ]
  },
  {
   "cell_type": "markdown",
   "metadata": {},
   "source": [
    "# Tarea Programada #1\n",
    "\n",
    "## Estudiantes: Brayan Alvarado y Brandon Retana"
   ]
  },
  {
   "attachments": {},
   "cell_type": "markdown",
   "metadata": {},
   "source": [
    "\n",
    "---\n",
    "# Pregunta 1\n",
    "Demuestre de manera matemática (sin programar) si los siguientes sistemas (con entrada  y salida ) son lineales o no lineales. Si los sistemas son no lineales puede demostrarlo por contra-ejemplo.\n",
    "\n",
    "*  $g(t)= log_{10}u(t)$.\n",
    "\n",
    "## Ejercicio a)\n",
    "\n",
    "$L\\left\\{ \\alpha f_{1}\\left(x\\right)+\\beta f_{2}\\left(x\\right)\\right\\}$  $=?$  $\\alpha L\\left\\{ f_{1}(x)\\right\\} +\\beta L\\left\\{ f_{2}(x)\\right\\}$\n",
    "\n",
    "Se tiene que verificar si:\n",
    "\n",
    "$\\left(\\alpha u(t)+\\beta u(t)\\right)\\log_{10}$ $=?$ $\\alpha\\,log_{10}u(t)+\\beta\\,log_{10}u(t)$\n",
    "\n",
    "$\\alpha\\,log_{10}u(t)+\\beta\\,log_{10}u(t)$  $=?$  $\\alpha\\,log_{10}u(t)+\\beta\\,log_{10}u(t)$\n",
    "\n",
    "por lo tanto el sistema es lineal.\n",
    "\n",
    "## Ejercicio b)\n",
    "\n",
    "$g(t) = |u(t)|$\n",
    "\n",
    "$\\left(\\alpha u(t)+\\beta u(t)\\right)$ $=?$ \n",
    "$\\alpha\\,u(t)+\\beta\\,u(t)$\n",
    "\n",
    "$\\alpha u(t)+\\beta u(t)$ $=?$ \n",
    "$\\alpha\\,u(t)+\\beta\\,u(t)$\n",
    "\n",
    "por lo tanto el sistema es lineal."
   ]
  },
  {
   "attachments": {},
   "cell_type": "markdown",
   "metadata": {},
   "source": [
    "# Pregunta 2\n",
    "Calcule el productor cruz de a x b para los siguientes pares de vectores utilizando tensores de Pytorch. Programe una función usando la función de biblioteca torch.cross y otra versión programando una función \"a pie\" sin utilizar funciones de biblioteca. Pruebe sus funciones utilizando los siguientes vectores:"
   ]
  },
  {
   "cell_type": "code",
   "execution_count": null,
   "metadata": {},
   "outputs": [],
   "source": [
    "import torch as torch\n",
    "\n",
    "def cross(firstVector, secondVector):\n",
    "    zeroVector = torch.zeros(firstVector.shape[0])\n",
    "    zeroVector[0] = firstVector[1]*secondVector[2] - firstVector[2]*secondVector[1]\n",
    "    zeroVector[1] = firstVector[2]*secondVector[0] - firstVector[0]*secondVector[2]\n",
    "    zeroVector[2] = firstVector[0]*secondVector[1] - firstVector[1]*secondVector[0]\n",
    "    return zeroVector\n",
    "\n",
    "\n",
    "x = torch.tensor( [1. , 2., 3. ])\n",
    "y = torch.tensor( [-1. , 1., 2. ])\n",
    "r = torch.cross( x, y)\n",
    "s = cross(x,y)\n",
    "print(\"Producto cruz =\", r )\n",
    "print(\"Producto cruz a pie =\", s )\n",
    "\n",
    "x = torch.tensor( [-2. , -2., 4. ])\n",
    "y = torch.tensor( [3. , -1., 1. ])\n",
    "r = torch.cross( x, y)\n",
    "s = cross(x,y)\n",
    "print(\"Producto cruz =\", r )\n",
    "print(\"Producto cruz a pie =\", s )"
   ]
  },
  {
   "attachments": {},
   "cell_type": "markdown",
   "metadata": {},
   "source": [
    "# Pregunta 3 \n",
    "Para cada uno de los siguientes vectores: primero, de manera matemática: calcule la norma L2  y normalice el vector, luego muestre una implementación en python de lo anterior (utilizando tensores de Pytorch), pero sin utilizar la función torch.norm de la biblioteca. Compare su resultado con una versión usando torch.norm.\n",
    "\n",
    "## Demostracion Matematica\n",
    "\n",
    "Debido a que buscamos calcular la norma l2, usaremos la siguiente formula:\n",
    "\n",
    "$$\\left\\Vert x\\right\\Vert _{2}=\\sqrt{\\sum_{i=1}^{n}x_{i}^{2}}$$\n",
    "\n",
    "### Ejercicio a)\n",
    "\n",
    "Dado el vector a:[-9.,7.] la formula se veria de la siguiente manera: \n",
    "\n",
    "$l2_a = \\sqrt{(-9)^2 + (7)^2}$\n",
    "\n",
    "$l2_a = \\sqrt{81 + 49}$\n",
    "\n",
    "$ l2_a =\\sqrt{130}$\n",
    "\n",
    "$l2_a = 11.4018$\n",
    "\n",
    "### Ejercicio b)\n",
    "\n",
    "Dado el vector b: [1.,2.,4.,5.] la formula se veria de la siguiente manera:\n",
    "\n",
    "$l2_b = \\sqrt{(1)^2 + (2)^2 + (4)^2 + (5)^2}$\n",
    "\n",
    "$l2_b = \\sqrt{1 + 4 + 16 + 25}$\n",
    "\n",
    "$ l2_b =\\sqrt{46}$\n",
    "\n",
    "$l2_b = 6.7823$\n"
   ]
  },
  {
   "cell_type": "code",
   "execution_count": 142,
   "metadata": {},
   "outputs": [
    {
     "name": "stdout",
     "output_type": "stream",
     "text": [
      "Resultados de funcion para vector a: 11.40175425099138\n",
      "Resultados de libreria para vector a: tensor(11.4018)\n",
      "Resultados de funcion para vector b: 6.782329983125268\n",
      "Resultados de libreria pra vector b: tensor(6.7823)\n"
     ]
    }
   ],
   "source": [
    "import torch as torch\n",
    "import matplotlib.pyplot as plt\n",
    "import math as math\n",
    "\n",
    "\n",
    "# Definir funcion\n",
    "\n",
    "\n",
    "def l2(x):\n",
    "    \n",
    "    list_x=0\n",
    "    for x1 in x:\n",
    "        list_x += x1**2\n",
    "    norm = math.sqrt(list_x)\n",
    "    return norm\n",
    "\n",
    "\n",
    "## Parte a)\n",
    "vector_a = torch.tensor([-9.,7.])\n",
    "\n",
    "print('Resultados de funcion para vector a:',l2(vector_a))\n",
    "\n",
    "l2_pytorch_a = torch.norm(vector_a,p=2)\n",
    "print('Resultados de libreria para vector a:',l2_pytorch_a)\n",
    "\n",
    "\n",
    "## Parte b) \n",
    "vector_b = torch.tensor([1.,2.,4.,5.])\n",
    "\n",
    "print('Resultados de funcion para vector b:',l2(vector_b))\n",
    "\n",
    "l2_pytorch_b = torch.norm(vector_b,p=2)\n",
    "print('Resultados de libreria pra vector b:',l2_pytorch_b)"
   ]
  },
  {
   "attachments": {},
   "cell_type": "markdown",
   "metadata": {},
   "source": [
    "# Pregunta 4"
   ]
  },
  {
   "cell_type": "code",
   "execution_count": null,
   "metadata": {},
   "outputs": [],
   "source": [
    "#Cree dos vectores del mismo tamaño con datos aleatorios\n",
    "firstTestVector = torch.rand(50)\n",
    "secondTestVector = torch.rand(50)\n",
    "\n",
    "\n",
    "#Programe una función que calcule el producto punto entre dos vectores SIN utilizar funciones de Python, es decir debe programar \"a pie\" la funcionalidad. Pruebe su función con los vectores creados anteriormente \n",
    "def scalarProduct(firstVector, secondVector):\n",
    "    resultScalar  = 0\n",
    "    if(firstVector.shape[0] != secondVector.shape[0]):\n",
    "        print(\"Los vectores deben tener las mismas dimensiones\")\n",
    "        return\n",
    "    for i in range(0, firstVector.shape[0]):\n",
    "        resultScalar += firstVector[i]*secondVector[i]\n",
    "    return resultScalar\n",
    "\n",
    "pyTorchTest = torch.dot(firstTestVector, secondTestVector)\n",
    "myFunction = scalarProduct(firstTestVector, secondTestVector)\n",
    "\n",
    "print(\"Producto punto: \", pyTorchTest)\n",
    "print(\"Producto punto a pie: \", myFunction)\n",
    "\n",
    "#Propiedad del producto punto: Implemente, con tensores de Pytorch, una función para verificar el cumplimiento o no de la siguiente propiedad por medio de un ejemplo o contraejemplo. \n",
    "#Utilice como entrada de su función, arreglos de 50 elementos generados al azar\n",
    "\n",
    "def propertyOfVector(firstVector, secondVector):\n",
    "    firstOrder = torch.dot(firstTestVector, secondTestVector)\n",
    "    secondOrder = torch.dot(secondTestVector, firstTestVector)\n",
    "    print(\"Primer vector: \", firstVector)\n",
    "    print(\"Segundo vector: \", secondVector)\n",
    "\n",
    "    if(firstOrder == secondOrder):\n",
    "        print(\"Si es conmutativo por que no importa el orden, da el mismo resultado \\nUn ejemplo de esto que este mensaje solo se muestra si el escalar resultante es igual cuando enviamos los vectores en orden diferente a la funcion dot de pyTorch\")\n",
    "        return\n",
    "        \n",
    "    print(\"No es conmutativo prueba\")    \n",
    "    return\n",
    "\n",
    "propertyOfVector(firstTestVector, secondTestVector)"
   ]
  },
  {
   "attachments": {},
   "cell_type": "markdown",
   "metadata": {},
   "source": [
    "# Pregunta 5"
   ]
  },
  {
   "cell_type": "code",
   "execution_count": 155,
   "metadata": {
    "scrolled": false
   },
   "outputs": [
    {
     "name": "stdout",
     "output_type": "stream",
     "text": [
      "Validacion de Colinealidad es: True\n"
     ]
    },
    {
     "data": {
      "image/png": "[encoded data removed]",
      "text/plain": [
       "<Figure size 640x480 with 1 Axes>"
      ]
     },
     "metadata": {},
     "output_type": "display_data"
    },
    {
     "data": {
      "image/png": "[encoded data removed]",
      "text/plain": [
       "<Figure size 640x480 with 1 Axes>"
      ]
     },
     "metadata": {},
     "output_type": "display_data"
    },
    {
     "name": "stdout",
     "output_type": "stream",
     "text": [
      "Producto Escalar de Vectores Ortogonales: tensor(0.)\n"
     ]
    },
    {
     "data": {
      "image/png": "[encoded data removed]",
      "text/plain": [
       "<Figure size 640x480 with 1 Axes>"
      ]
     },
     "metadata": {},
     "output_type": "display_data"
    },
    {
     "name": "stdout",
     "output_type": "stream",
     "text": [
      "Producto Escalar de Vectores No Ortagonales: tensor(165)\n"
     ]
    },
    {
     "data": {
      "image/png": "[encoded data removed]",
      "text/plain": [
       "<Figure size 640x480 with 1 Axes>"
      ]
     },
     "metadata": {},
     "output_type": "display_data"
    },
    {
     "name": "stdout",
     "output_type": "stream",
     "text": [
      "El angulo para los vectores ax y ay es: 0.0\n",
      "El angulo para los vectores bx y by es: 1.5707963267948966\n"
     ]
    }
   ],
   "source": [
    "# Pregunta 5\n",
    "\n",
    "import torch as torch\n",
    "import matplotlib.pyplot as plt\n",
    "import math as math\n",
    "\n",
    "# Ejercicio A\n",
    "\n",
    "##Vectores propuestos\n",
    "ax= torch.tensor([24.,8.])\n",
    "ay= torch.tensor([12.,4.])\n",
    "\n",
    "##Prueba de colinealidad\n",
    "axx=ax[0].item()\n",
    "ayx=ay[0].item()\n",
    "axy= ax[1].item()\n",
    "ayy= ay[1].item()\n",
    "\n",
    "validate = (axx/ayx)==(axy/ayy)\n",
    "print('Validacion de Colinealidad es:',validate)\n",
    "\n",
    "##Definir el origen de los vectores en los puntos. 0,0 \n",
    "origin = [0,0]\n",
    "\n",
    "##Grafica de vectores Colineales\n",
    "plt.quiver(origin,origin,ax,ay,color=['b','g'],scale=70)\n",
    "plt.suptitle('Grafica de vectores colineales')\n",
    "plt.show()\n",
    "\n",
    "##Vectores No Colineales\n",
    "ay1= torch.tensor([15,2])\n",
    "\n",
    "plt.quiver(origin,origin,ax,ay1,color=['b','g'],scale=70)\n",
    "plt.suptitle('Grafica de vectores no colineales')\n",
    "plt.show()\n",
    "\n",
    "#Ejercicio B\n",
    "\n",
    "##Ortogonales \n",
    "bx = torch.tensor([9.,21.])\n",
    "by= torch.tensor([21.,-9.])\n",
    "\n",
    "producto_punto_oct = torch.dot(bx,by)\n",
    "##Demostracion de que producto escalar es igual a 0\n",
    "print(\"Producto Escalar de Vectores Ortogonales:\",producto_punto_oct)\n",
    "\n",
    "## Definir Origen para grafica\n",
    "origin= [0,0]\n",
    "\n",
    "##Grafica de Vectores Ortogonales\n",
    "plt.quiver(origin,origin,bx,by,color=['b','g'],scale = 60)\n",
    "plt.suptitle('Grafica de Vectores Ortogonales')\n",
    "plt.show()\n",
    "\n",
    "\n",
    "## No Ortogonales\n",
    "\n",
    "bx2= torch.tensor([9,21])\n",
    "by2=torch.tensor([2,7])\n",
    "producto_punto_no_oct = torch.dot(bx2,by2)\n",
    "\n",
    "\n",
    "\n",
    "##Demostracion de que producto es diferente de 0 y por ende, no octagonal\n",
    "print('Producto Escalar de Vectores No Ortagonales:',producto_punto_no_oct)\n",
    "\n",
    "##Grafica de Vectores No Ortogonales\n",
    "\n",
    "plt.quiver(origin,origin,bx2,by2,color=['b','g'], scale =60)\n",
    "plt.suptitle('Grafica de Vectores No Ortogonales')\n",
    "plt.show()\n",
    "\n",
    "#Ejercicio C\n",
    "\n",
    "#Definir formula\n",
    "\n",
    "def Angle_Calc (x,y):\n",
    "    if(not(x.shape[0]==y.shape[0])):\n",
    "        print('Los vectores deben ser de igual dimension')\n",
    "        return\n",
    "    pp=sum([x1*y1 for x1,y1 in zip(x,y)])\n",
    "    norm_x = l2(x)\n",
    "    norm_y = l2(y)\n",
    "    cos0 = pp/(norm_x*norm_y)\n",
    "    angle = math.acos(cos0)\n",
    "    return angle\n",
    "\n",
    "#Prueba con Vectores del ejercicio A\n",
    "print(\"El angulo para los vectores ax y ay es:\",Angle_Calc(ax,ay))\n",
    "\n",
    "#Prueba con Vectores del ejercicio B\n",
    "print(\"El angulo para los vectores bx y by es:\",Angle_Calc(bx,by))"
   ]
  }
 ],
 "metadata": {
  "colab": {
   "collapsed_sections": [],
   "name": "Trabajo_Práctico_1_Matemática_para_Ciencia_de_los_Datos.ipynb",
   "provenance": []
  },
  "kernelspec": {
   "display_name": "Python 3",
   "language": "python",
   "name": "python3"
  },
  "language_info": {
   "codemirror_mode": {
    "name": "ipython",
    "version": 3
   },
   "file_extension": ".py",
   "mimetype": "text/x-python",
   "name": "python",
   "nbconvert_exporter": "python",
   "pygments_lexer": "ipython3",
   "version": "3.10.10"
  },
  "vscode": {
   "interpreter": {
    "hash": "1b28e1c81f21e9d624c09e2b24d5459d0aec70c0b583218bcb870c775f4dd0e2"
   }
  }
 },
 "nbformat": 4,
 "nbformat_minor": 1
}
